{
 "cells": [
  {
   "cell_type": "code",
   "execution_count": 10,
   "id": "ce3f989f",
   "metadata": {},
   "outputs": [
    {
     "name": "stderr",
     "output_type": "stream",
     "text": [
      "Warning message:\n",
      "\"package 'ggpubr' was built under R version 3.6.3\""
     ]
    },
    {
     "ename": "ERROR",
     "evalue": "Error: package or namespace load failed for 'ggpubr' in loadNamespace(j <- i[[1L]], c(lib.loc, .libPaths()), versionCheck = vI[[j]]):\n namespace 'broom' 0.5.2 is being loaded, but >= 0.7.4 is required\n",
     "output_type": "error",
     "traceback": [
      "Error: package or namespace load failed for 'ggpubr' in loadNamespace(j <- i[[1L]], c(lib.loc, .libPaths()), versionCheck = vI[[j]]):\n namespace 'broom' 0.5.2 is being loaded, but >= 0.7.4 is required\nTraceback:\n",
      "1. library(\"ggpubr\")",
      "2. tryCatch({\n .     attr(package, \"LibPath\") <- which.lib.loc\n .     ns <- loadNamespace(package, lib.loc)\n .     env <- attachNamespace(ns, pos = pos, deps, exclude, include.only)\n . }, error = function(e) {\n .     P <- if (!is.null(cc <- conditionCall(e))) \n .         paste(\" in\", deparse(cc)[1L])\n .     else \"\"\n .     msg <- gettextf(\"package or namespace load failed for %s%s:\\n %s\", \n .         sQuote(package), P, conditionMessage(e))\n .     if (logical.return) \n .         message(paste(\"Error:\", msg), domain = NA)\n .     else stop(msg, call. = FALSE, domain = NA)\n . })",
      "3. tryCatchList(expr, classes, parentenv, handlers)",
      "4. tryCatchOne(expr, names, parentenv, handlers[[1L]])",
      "5. value[[3L]](cond)",
      "6. stop(msg, call. = FALSE, domain = NA)"
     ]
    }
   ],
   "source": [
    "library(\"readxl\")\n",
    "library(\"ggplot2\")\n",
    "library(\"ggpubr\")"
   ]
  },
  {
   "cell_type": "code",
   "execution_count": 12,
   "id": "c73f0359",
   "metadata": {},
   "outputs": [
    {
     "data": {
      "text/plain": [
       "               _                           \n",
       "platform       x86_64-w64-mingw32          \n",
       "arch           x86_64                      \n",
       "os             mingw32                     \n",
       "system         x86_64, mingw32             \n",
       "status                                     \n",
       "major          3                           \n",
       "minor          6.1                         \n",
       "year           2019                        \n",
       "month          07                          \n",
       "day            05                          \n",
       "svn rev        76782                       \n",
       "language       R                           \n",
       "version.string R version 3.6.1 (2019-07-05)\n",
       "nickname       Action of the Toes          "
      ]
     },
     "metadata": {},
     "output_type": "display_data"
    }
   ],
   "source": [
    "version"
   ]
  },
  {
   "cell_type": "code",
   "execution_count": 3,
   "id": "166335a1",
   "metadata": {},
   "outputs": [],
   "source": [
    "total <- read.csv(file = 'sci_2_distance_pa.csv')"
   ]
  },
  {
   "cell_type": "code",
   "execution_count": 11,
   "id": "4a80f621",
   "metadata": {},
   "outputs": [
    {
     "data": {
      "text/plain": [
       "geom_smooth: na.rm = FALSE, se = TRUE\n",
       "stat_smooth: na.rm = FALSE, se = TRUE, method = lm, formula = total$scaled_sci ~ total$distance\n",
       "position_identity "
      ]
     },
     "metadata": {},
     "output_type": "display_data"
    },
    {
     "ename": "ERROR",
     "evalue": "Error in ggscatter(total, x = \"distance\", y = \"scaled_sci\", color = \"black\", : 没有\"ggscatter\"这个函数\n",
     "output_type": "error",
     "traceback": [
      "Error in ggscatter(total, x = \"distance\", y = \"scaled_sci\", color = \"black\", : 没有\"ggscatter\"这个函数\nTraceback:\n"
     ]
    },
    {
     "data": {
      "image/png": "[encoded data removed]",
      "text/plain": [
       "plot without title"
      ]
     },
     "metadata": {},
     "output_type": "display_data"
    }
   ],
   "source": [
    "max_value=max(total$scaled_sci)\n",
    "total$scaled_sci<-total$scaled_sci/max_value\n",
    "\n",
    "distance_plot<-ggplot(total, aes(x = distance, y =scaled_sci )) +\n",
    "  geom_point()+scale_y_log10()\n",
    "distance_plot\n",
    "\n",
    "geom_smooth(formula = 'total$scaled_sci ~ total$distance', method = \"lm\")\n",
    "ggscatter(total, x =\"distance\", y =\"scaled_sci\",\n",
    "          color = \"black\", shape = 21, size = 2,\n",
    "          add = \"reg.line\", conf.int = TRUE,\n",
    "          cor.coef = TRUE, cor.method = \"pearson\", \n",
    "          xlab = \"distance\", ylab = \"scaled_sci\")+scale_y_log10()\n",
    "\n",
    "reg <- lm(scaled_sci ~ distance, data = total)\n",
    "summary(reg)\n"
   ]
  },
  {
   "cell_type": "code",
   "execution_count": null,
   "id": "d9218d2b",
   "metadata": {},
   "outputs": [],
   "source": []
  }
 ],
 "metadata": {
  "kernelspec": {
   "display_name": "R",
   "language": "R",
   "name": "ir"
  },
  "language_info": {
   "codemirror_mode": "r",
   "file_extension": ".r",
   "mimetype": "text/x-r-source",
   "name": "R",
   "pygments_lexer": "r",
   "version": "3.6.1"
  }
 },
 "nbformat": 4,
 "nbformat_minor": 5
}
