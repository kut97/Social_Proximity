{
 "cells": [
  {
   "cell_type": "code",
   "execution_count": null,
   "id": "d654ee6d",
   "metadata": {},
   "outputs": [],
   "source": [
    "library(readr)\n",
    "library(\"dplyr\")\n",
    "library(\"zipcodeR\")\n",
    "library(ggplot2)\n",
    "library(\"ggpubr\")"
   ]
  },
  {
   "cell_type": "code",
   "execution_count": null,
   "id": "4c085f2d",
   "metadata": {},
   "outputs": [],
   "source": [
    "data_zipcode1<- read_tsv('C:/Users/Yixuan/OneDrive - University of Pittsburgh/Desktop/Data for Social Good/SCI/zcta_zcta_shard1.tsv')"
   ]
  },
  {
   "cell_type": "code",
   "execution_count": null,
   "id": "362013bd",
   "metadata": {},
   "outputs": [],
   "source": [
    "PA<-search_state('PA')"
   ]
  },
  {
   "cell_type": "code",
   "execution_count": null,
   "id": "47bf6c1e",
   "metadata": {},
   "outputs": [],
   "source": [
    "distance_zip1<-zip_distance(data_zipcode1$user_loc,data_zipcode1$fr_loc)\n",
    "distance_zip1 <- distance_zip1[!is.na(distance_zip1$distance), ]\n",
    "distance_zip1 <- setNames(distance_zip1, c(\"user_loc\",\"fr_loc\",\"distance\"))\n",
    "total_1 <- merge(data_zipcode1,distance_zip1,by=c(\"user_loc\",\"fr_loc\"))\n",
    "PA_user <- setNames(PA, c(\"user_loc\"))\n",
    "total_1 <- merge(total_1,PA_user,by=c(\"user_loc\"))\n",
    "PA_fr <- setNames(PA, c(\"fr_loc\"))\n",
    "total_1 <- merge(total_1,PA_fr,by=c(\"fr_loc\"))"
   ]
  },
  {
   "cell_type": "code",
   "execution_count": null,
   "id": "6bb9be27",
   "metadata": {},
   "outputs": [],
   "source": [
    "PA<-PA[ , c('zipcode')]\n",
    "PA_user <- setNames(PA, c(\"user_loc\"))\n",
    "total <- merge(total_1,PA_user,by=c(\"user_loc\"))\n",
    "\n",
    "PA_fr <- setNames(PA, c(\"fr_loc\"))\n",
    "total <- merge(total_1,PA_fr,by=c(\"fr_loc\"))"
   ]
  },
  {
   "cell_type": "code",
   "execution_count": null,
   "id": "25fd4efb",
   "metadata": {},
   "outputs": [],
   "source": [
    "max_value=max(total$scaled_sci)\n",
    "total$scaled_sci<-total$scaled_sci/max_value\n",
    "\n",
    "write.csv(total,\"C:/Users/Yixuan/OneDrive - University of Pittsburgh/Desktop/Data for Social Good/SCI/total.csv\", row.names = FALSE)"
   ]
  },
  {
   "cell_type": "code",
   "execution_count": null,
   "id": "460d2f96",
   "metadata": {},
   "outputs": [],
   "source": [
    "distance_plot<-ggplot(total, aes(x = distance, y =scaled_sci )) +\n",
    "  geom_point()+scale_y_log10()\n",
    "distance_plot"
   ]
  },
  {
   "cell_type": "code",
   "execution_count": null,
   "id": "baa9b97e",
   "metadata": {},
   "outputs": [],
   "source": [
    "geom_smooth(formula = 'total$scaled_sci ~ total$distance', method = \"lm\")\n",
    "ggscatter(total, x =\"distance\", y =\"scaled_sci\",\n",
    "          color = \"black\", shape = 21, size = 2,\n",
    "          add = \"reg.line\", conf.int = TRUE,\n",
    "          cor.coef = TRUE, cor.method = \"pearson\", \n",
    "          xlab = \"distance\", ylab = \"scaled_sci\")+scale_y_log10()"
   ]
  },
  {
   "cell_type": "code",
   "execution_count": null,
   "id": "8b685dd0",
   "metadata": {},
   "outputs": [],
   "source": [
    "reg <- lm(scaled_sci ~ distance, data = total)\n",
    "summary(reg)"
   ]
  }
 ],
 "metadata": {
  "kernelspec": {
   "display_name": "R",
   "language": "R",
   "name": "ir"
  },
  "language_info": {
   "codemirror_mode": "r",
   "file_extension": ".r",
   "mimetype": "text/x-r-source",
   "name": "R",
   "pygments_lexer": "r",
   "version": "3.6.1"
  }
 },
 "nbformat": 4,
 "nbformat_minor": 5
}
